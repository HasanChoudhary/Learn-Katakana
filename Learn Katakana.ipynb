{
 "cells": [
  {
   "cell_type": "code",
   "execution_count": null,
   "metadata": {},
   "outputs": [],
   "source": [
    "from random import randint\n",
    "import time\n",
    "\n",
    "JAP = [\"ア\",\"イ\",\"ウ\",\"エ\",\"お\",\"か\",\"き\",\"く\",\"け\",\"こ\",\"さ\",\"し\",\"す\",\"せ\",\"そ\",\"た\",\"ち\",\"つ\",\"て\",\"と\",\"な\",\"に\",\"ぬ\",\"ね\",\"の\",\"は\",\"ひ\",\"ふ\",\"へ\",\"ほ\",\"ま\",\"み\",\"む\",\"め\",\"も\",\"や\",\"ゆ\",\"よ\",\"ら\",\"り\",\"る\",\"れ\",\"ろ\",\"わ\",\"お\",\"ん\"]\n",
    "ENG = [\"a\",\"i\",\"u\",\"e\",\"o\",\"ka\",\"ki\",\"ku\",\"ke\",\"ko\",\"sa\",\"shi\",\"su\",\"se\",\"so\",\"ta\",\"chi\",\"tsu\",\"te\",\"to\",\"na\",\"ni\",\"nu\",\"ne\",\"no\",\"na\",\"hi\",\"fu\",\"he\",\"ho\",\"ma\",\"mi\",\"mu\",\"me\",\"mo\",\"ya\",\"yu\",\"yo\",\"ra\",\"ri\",\"ru\",\"re\",\"ro\",\"wa\",\"o\",\"n/m\"]\n",
    "\n",
    "on = True\n",
    "guesscount = 0 \n",
    "\n",
    "while on:\n",
    "    ran = randint(1,45)\n",
    "    guesscount = 0 \n",
    "    while guesscount <=3:\n",
    "        \n",
    "        if guesscount <=0:\n",
    "            print(JAP[ran])\n",
    "            time.sleep(0.2)\n",
    "            guess = input(\"What Hiragana Character is this: \")\n",
    "     \n",
    "        if guess.lower() == \"exit\":\n",
    "            on = False \n",
    "            guesscount = 3\n",
    "            \n",
    "        if guess.lower() == ENG[ran]:\n",
    "            print(\"Great Job\")\n",
    "            break\n",
    "            \n",
    "        elif guess.lower() != ENG[ran] and guesscount <= 2:\n",
    "            guess = input(\"Nice Try Pls Again: \")\n",
    "            guesscount += 1\n",
    "            continue \n",
    "            \n",
    "        else:\n",
    "            print(\"Nice Try But The Character was: \"+ENG[ran])\n",
    "            break\n",
    "         "
   ]
  }
 ],
 "metadata": {
  "kernelspec": {
   "display_name": "Python 3",
   "language": "python",
   "name": "python3"
  },
  "language_info": {
   "codemirror_mode": {
    "name": "ipython",
    "version": 3
   },
   "file_extension": ".py",
   "mimetype": "text/x-python",
   "name": "python",
   "nbconvert_exporter": "python",
   "pygments_lexer": "ipython3",
   "version": "3.7.6"
  }
 },
 "nbformat": 4,
 "nbformat_minor": 4
}
